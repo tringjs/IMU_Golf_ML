{
 "cells": [
  {
   "cell_type": "code",
   "execution_count": 2,
   "metadata": {},
   "outputs": [],
   "source": [
    "## refactor files\n",
    "\n",
    "## **_fltRaws.json goes to ./data/Raw/fltRaws\n",
    "## **_logRaws.csv goes to ./data/Raw/logRaws\n",
    "## ** userinfo.json goes to ./data/Raw/userinfo\n",
    "\n",
    "dir = './data/Raw/'\n",
    "\n",
    "import os\n",
    "\n",
    "def get_files(dir):\n",
    "    files = []\n",
    "    for file in os.listdir(dir):\n",
    "        if file.endswith(\".json\") or file.endswith(\".csv\"):\n",
    "            files.append(file)\n",
    "    return files\n",
    "\n",
    "files = get_files(dir)\n",
    "\n",
    "for file in files:\n",
    "    if file.endswith(\"_userinfo.json\"):\n",
    "        os.rename(dir+file, './data/Raw/userinfo/'+file)\n",
    "    elif file.endswith(\"_fltRaws.json\"):\n",
    "        os.rename(dir+file, './data/Raw/fltRaws/'+file)\n",
    "    elif file.endswith(\"_logRaws.csv\"):\n",
    "        os.rename(dir+file, './data/Raw/logRaws/'+file)"
   ]
  },
  {
   "cell_type": "code",
   "execution_count": null,
   "metadata": {},
   "outputs": [],
   "source": []
  }
 ],
 "metadata": {
  "kernelspec": {
   "display_name": "Python 3",
   "language": "python",
   "name": "python3"
  },
  "language_info": {
   "codemirror_mode": {
    "name": "ipython",
    "version": 3
   },
   "file_extension": ".py",
   "mimetype": "text/x-python",
   "name": "python",
   "nbconvert_exporter": "python",
   "pygments_lexer": "ipython3",
   "version": "3.8.10"
  },
  "orig_nbformat": 4
 },
 "nbformat": 4,
 "nbformat_minor": 2
}
